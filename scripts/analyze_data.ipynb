{
 "cells": [
  {
   "cell_type": "code",
   "execution_count": 2,
   "metadata": {},
   "outputs": [
    {
     "name": "stdout",
     "output_type": "stream",
     "text": [
      "number of images: 1007\n",
      "{4: 6, 5: 999, 6: 2}\n",
      "{'F': 325, 'D': 304, '6': 311, 'A': 338, '3': 300, '2': 326, '0': 250, 'O': 17, 'Q': 1, 'L': 1, 'G': 3, '4': 300, '8': 336, 'P': 1, '7': 315, '1': 336, '9': 334, 'E': 324, 'C': 299, 'B': 305, 'S': 1, '5': 304}\n"
     ]
    }
   ],
   "source": [
    "from os.path import join, basename, isdir, splitext, isfile\n",
    "from os import mkdir, listdir\n",
    "import re\n",
    "\n",
    "def list_images(base_dir, valid_exts=['.jpg', '.jpeg', '.png', '.bmp']):\n",
    "    images_list = []\n",
    "    for f in listdir(base_dir):\n",
    "        if not isfile(join(base_dir, f)):\n",
    "            continue\n",
    "        filext = splitext(f.lower())[1]\n",
    "        if filext not in valid_exts:\n",
    "            continue\n",
    "        images_list.append(f)\n",
    "    return images_list\n",
    "\n",
    "base_dir = '/home/ubuntu/projects/data/captcha/labeled_captchas/'\n",
    "\n",
    "imnames = list_images(base_dir)\n",
    "print('number of images: {}'.format(len(imnames)))\n",
    "\n",
    "symbols_stat = {}\n",
    "number_of_symbols_stat = {}\n",
    "for imname in imnames:\n",
    "    imbase = splitext(imname)[0]\n",
    "    imbase = imbase.upper()\n",
    "    a = len(imbase)\n",
    "    if a not in number_of_symbols_stat:\n",
    "        number_of_symbols_stat[a] = 0\n",
    "    number_of_symbols_stat[a] += 1\n",
    "    # if not re.match('[A-Z0-8]+', imbase):\n",
    "    #     print(imname)\n",
    "    for c in imbase:\n",
    "        if c not in symbols_stat:\n",
    "            symbols_stat[c] = 0\n",
    "        symbols_stat[c] += 1\n",
    "        \n",
    "print(number_of_symbols_stat)\n",
    "print(symbols_stat)"
   ]
  },
  {
   "cell_type": "code",
   "execution_count": null,
   "metadata": {},
   "outputs": [],
   "source": []
  }
 ],
 "metadata": {
  "kernelspec": {
   "display_name": "Python 3",
   "language": "python",
   "name": "python3"
  },
  "language_info": {
   "codemirror_mode": {
    "name": "ipython",
    "version": 3
   },
   "file_extension": ".py",
   "mimetype": "text/x-python",
   "name": "python",
   "nbconvert_exporter": "python",
   "pygments_lexer": "ipython3",
   "version": "3.5.2"
  }
 },
 "nbformat": 4,
 "nbformat_minor": 2
}
