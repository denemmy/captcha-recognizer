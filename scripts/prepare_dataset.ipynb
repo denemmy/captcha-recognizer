{
 "cells": [
  {
   "cell_type": "code",
   "execution_count": 9,
   "metadata": {},
   "outputs": [
    {
     "name": "stdout",
     "output_type": "stream",
     "text": [
      "number of images: 1007\n",
      "total number of samples: 1007\n",
      "1007 = 806 (train) + 201 (test)\n",
      "all done.\n"
     ]
    }
   ],
   "source": [
    "from os.path import join, basename, isdir, splitext, isfile\n",
    "from os import mkdir, listdir\n",
    "import re\n",
    "import random\n",
    "import numpy as np\n",
    "\n",
    "def list_images(base_dir, valid_exts=['.jpg', '.jpeg', '.png', '.bmp']):\n",
    "    images_list = []\n",
    "    for f in listdir(base_dir):\n",
    "        if not isfile(join(base_dir, f)):\n",
    "            continue\n",
    "        filext = splitext(f.lower())[1]\n",
    "        if filext not in valid_exts:\n",
    "            continue\n",
    "        images_list.append(f)\n",
    "    return images_list\n",
    "\n",
    "base_dir = '/home/ubuntu/projects/data/captcha/labeled_captchas/'\n",
    "\n",
    "imnames = list_images(base_dir)\n",
    "print('number of images: {}'.format(len(imnames)))\n",
    "\n",
    "samples = []\n",
    "for imname in imnames:\n",
    "    imbase = splitext(imname)[0]\n",
    "    imbase = imbase.upper()\n",
    "    imlabels = []\n",
    "    for c in imbase:\n",
    "        if c.isdigit():\n",
    "            label = ord(c) - ord('0')\n",
    "        else:\n",
    "            label = ord(c) - ord('A') + 10\n",
    "        imlabels.append(label)\n",
    "    samples.append((imname, imlabels))\n",
    "        \n",
    "def write_data(output_filename, samples):\n",
    "    with open(output_filename, 'w') as fp:\n",
    "        for imname, labels in samples:\n",
    "            labels_str = ';'.join([str(l) for l in labels])\n",
    "            fp.write('{};{}\\n'.format(imname, labels_str))\n",
    "            \n",
    "def split_test_train(samples, test_ratio=0.2):\n",
    "    \n",
    "    n_samples = len(samples)\n",
    "    n_test = int(n_samples * test_ratio)\n",
    "    \n",
    "    test_idx = np.random.choice(n_samples, n_test, replace=False)\n",
    "    test_mask = np.zeros(n_samples, dtype=np.bool)\n",
    "    test_mask[test_idx] = True\n",
    "    train_mask = ~test_mask\n",
    "    train_idx = np.nonzero(train_mask)[0]\n",
    "    \n",
    "    test_samples = [samples[idx] for idx in test_idx]\n",
    "    train_samples = [samples[idx] for idx in train_idx]\n",
    "    \n",
    "    return train_samples, test_samples\n",
    "            \n",
    "print('total number of samples: {}'.format(len(samples)))\n",
    "write_data(join(base_dir, 'samples.txt'), samples)\n",
    "\n",
    "train_samples, test_samples = split_test_train(samples)\n",
    "print('{} = {} (train) + {} (test)'.format(len(samples), len(train_samples), len(test_samples)))\n",
    "\n",
    "write_data(join(base_dir, 'train.txt'), train_samples)\n",
    "write_data(join(base_dir, 'test.txt'), test_samples)\n",
    "print('all done.')"
   ]
  },
  {
   "cell_type": "code",
   "execution_count": null,
   "metadata": {},
   "outputs": [],
   "source": []
  }
 ],
 "metadata": {
  "kernelspec": {
   "display_name": "Python 3",
   "language": "python",
   "name": "python3"
  },
  "language_info": {
   "codemirror_mode": {
    "name": "ipython",
    "version": 3
   },
   "file_extension": ".py",
   "mimetype": "text/x-python",
   "name": "python",
   "nbconvert_exporter": "python",
   "pygments_lexer": "ipython3",
   "version": "3.5.2"
  }
 },
 "nbformat": 4,
 "nbformat_minor": 2
}
